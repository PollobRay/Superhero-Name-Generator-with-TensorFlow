{
  "cells": [
    {
      "cell_type": "markdown",
      "metadata": {
        "id": "21XXWP7Fpt2L"
      },
      "source": [
        "# Superhero (and Supervillain) Name Generator\n",
        "\n",
        "---\n",
        "\n",
        "[Superhero Names Dataset](https://github.com/am1tyadav/superhero)"
      ]
    },
    {
      "cell_type": "markdown",
      "metadata": {
        "id": "H6P0NU5Cpt2R"
      },
      "source": [
        "## Task 2\n",
        "\n",
        "1. Import the data\n",
        "2. Create a tokenizer\n",
        "3. Char to index and Index to char dictionaries"
      ]
    },
    {
      "cell_type": "code",
      "execution_count": 1,
      "metadata": {
        "id": "srULhalZpt2M",
        "colab": {
          "base_uri": "https://localhost:8080/"
        },
        "outputId": "fb6e9912-41b8-4a50-f712-aa1e5ff14976"
      },
      "outputs": [
        {
          "output_type": "stream",
          "name": "stdout",
          "text": [
            "Cloning into 'superhero'...\n",
            "remote: Enumerating objects: 8, done.\u001b[K\n",
            "remote: Counting objects: 100% (8/8), done.\u001b[K\n",
            "remote: Compressing objects: 100% (7/7), done.\u001b[K\n",
            "remote: Total 8 (delta 0), reused 4 (delta 0), pack-reused 0\u001b[K\n",
            "Receiving objects: 100% (8/8), 47.08 KiB | 2.24 MiB/s, done.\n"
          ]
        }
      ],
      "source": [
        "!git clone https://github.com/am1tyadav/superhero"
      ]
    },
    {
      "cell_type": "code",
      "execution_count": 13,
      "metadata": {
        "id": "uq4CLmsLpt2P",
        "colab": {
          "base_uri": "https://localhost:8080/",
          "height": 35
        },
        "outputId": "0b4dcd51-9d17-4ba3-949d-45b9a1368b29"
      },
      "outputs": [
        {
          "output_type": "execute_result",
          "data": {
            "text/plain": [
              "'jumpa\\t\\ndoctor fate\\t\\nstarlight\\t\\nisildur\\t\\nlasher\\t\\nvarvara\\t\\nthe target\\t\\naxel\\t\\nbattra\\t\\nchangeling\\t\\npyrrh'"
            ],
            "application/vnd.google.colaboratory.intrinsic+json": {
              "type": "string"
            }
          },
          "metadata": {},
          "execution_count": 13
        }
      ],
      "source": [
        "with open('superhero/superheroes.txt', 'r') as f:\n",
        "  data = f.read()\n",
        "\n",
        "\n",
        "data[:100] #print 100 names"
      ]
    },
    {
      "cell_type": "code",
      "execution_count": 14,
      "metadata": {
        "id": "JqhtLuAHpt2R",
        "colab": {
          "base_uri": "https://localhost:8080/"
        },
        "outputId": "f8dbe5a6-9c40-4295-b4eb-0c8bf34f8e44"
      },
      "outputs": [
        {
          "output_type": "stream",
          "name": "stdout",
          "text": [
            "2.15.0\n"
          ]
        }
      ],
      "source": [
        "import tensorflow as tf\n",
        "print(tf.__version__)"
      ]
    },
    {
      "cell_type": "code",
      "execution_count": 15,
      "metadata": {
        "id": "95Lo1Yqzpt2T"
      },
      "outputs": [],
      "source": [
        "#covert character to number\n",
        "tokenizer = tf.keras.preprocessing.text.Tokenizer(\n",
        "    filters='!\"#$%&()*+,-./:;<=>?@[\\\\]^_`{|}~',\n",
        "    split='\\n',\n",
        ")"
      ]
    },
    {
      "cell_type": "code",
      "execution_count": 16,
      "metadata": {
        "id": "qYfC4sj2pt2V"
      },
      "outputs": [],
      "source": [
        "tokenizer.fit_on_texts(data)"
      ]
    },
    {
      "cell_type": "code",
      "execution_count": 17,
      "metadata": {
        "id": "EO4-dPM6pt2X",
        "colab": {
          "base_uri": "https://localhost:8080/"
        },
        "outputId": "8d7fb359-b060-43c2-9c5e-ae69e0e5a9b6"
      },
      "outputs": [
        {
          "output_type": "stream",
          "name": "stdout",
          "text": [
            "{1: '\\t', 2: 'a', 3: 'e', 4: 'r', 5: 'o', 6: 'n', 7: 'i', 8: ' ', 9: 't', 10: 's', 11: 'l', 12: 'm', 13: 'h', 14: 'd', 15: 'c', 16: 'u', 17: 'g', 18: 'k', 19: 'b', 20: 'p', 21: 'y', 22: 'w', 23: 'f', 24: 'v', 25: 'j', 26: 'z', 27: 'x', 28: 'q'}\n"
          ]
        }
      ],
      "source": [
        "char_to_index = tokenizer.word_index\n",
        "index_to_char = dict((v,k) for k, v in char_to_index.items())\n",
        "\n",
        "print(index_to_char) #vocabulary convert to numbers"
      ]
    },
    {
      "cell_type": "markdown",
      "metadata": {
        "id": "SMwtIw_Bpt2Z"
      },
      "source": [
        "## Task 3\n",
        "\n",
        "1. Converting between names and sequences"
      ]
    },
    {
      "cell_type": "code",
      "execution_count": 18,
      "metadata": {
        "id": "N7iQLIXzpt2a",
        "colab": {
          "base_uri": "https://localhost:8080/"
        },
        "outputId": "909d187f-0322-427d-ef42-b96fefbbed01"
      },
      "outputs": [
        {
          "output_type": "execute_result",
          "data": {
            "text/plain": [
              "['jumpa\\t',\n",
              " 'doctor fate\\t',\n",
              " 'starlight\\t',\n",
              " 'isildur\\t',\n",
              " 'lasher\\t',\n",
              " 'varvara\\t',\n",
              " 'the target\\t',\n",
              " 'axel\\t',\n",
              " 'battra\\t',\n",
              " 'changeling\\t']"
            ]
          },
          "metadata": {},
          "execution_count": 18
        }
      ],
      "source": [
        "names = data.splitlines()\n",
        "names[:10] #print first 10 names"
      ]
    },
    {
      "cell_type": "code",
      "execution_count": 19,
      "metadata": {
        "id": "n_-TTfqipt2c",
        "colab": {
          "base_uri": "https://localhost:8080/"
        },
        "outputId": "8878fa61-5686-4f28-e061-84704a38345a"
      },
      "outputs": [
        {
          "output_type": "execute_result",
          "data": {
            "text/plain": [
              "[[25], [16], [12], [20], [2], [1]]"
            ]
          },
          "metadata": {},
          "execution_count": 19
        }
      ],
      "source": [
        "tokenizer.texts_to_sequences(names[0])  #numeric representation for 'jumpa\\t'"
      ]
    },
    {
      "cell_type": "code",
      "execution_count": 20,
      "metadata": {
        "id": "P6IsKH1Upt2e"
      },
      "outputs": [],
      "source": [
        "def name_to_seq(name):\n",
        "  return [tokenizer.texts_to_sequences(c)[0][0] for c in name] #"
      ]
    },
    {
      "cell_type": "code",
      "execution_count": 21,
      "metadata": {
        "id": "TuLUiMP3pt2g",
        "colab": {
          "base_uri": "https://localhost:8080/"
        },
        "outputId": "567850e1-8641-49c6-9eb7-b055409c2caf"
      },
      "outputs": [
        {
          "output_type": "execute_result",
          "data": {
            "text/plain": [
              "[25, 16, 12, 20, 2, 1]"
            ]
          },
          "metadata": {},
          "execution_count": 21
        }
      ],
      "source": [
        "name_to_seq(names[0])"
      ]
    },
    {
      "cell_type": "code",
      "execution_count": 22,
      "metadata": {
        "id": "yFUYhimKpt2h"
      },
      "outputs": [],
      "source": [
        "def seq_to_name(seq):\n",
        "  return ''.join([index_to_char[i] for i in seq if i!=0]) # because 0 is not defined"
      ]
    },
    {
      "cell_type": "code",
      "execution_count": 23,
      "metadata": {
        "id": "ROhCqmhLpt2k",
        "colab": {
          "base_uri": "https://localhost:8080/",
          "height": 35
        },
        "outputId": "a22fa2ad-cd5f-4f06-86ff-ca4b9cc8bf1b"
      },
      "outputs": [
        {
          "output_type": "execute_result",
          "data": {
            "text/plain": [
              "'jumpa\\t'"
            ],
            "application/vnd.google.colaboratory.intrinsic+json": {
              "type": "string"
            }
          },
          "metadata": {},
          "execution_count": 23
        }
      ],
      "source": [
        "seq_to_name(name_to_seq(names[0]))"
      ]
    },
    {
      "cell_type": "markdown",
      "metadata": {
        "id": "uCbAzsNjpt2m"
      },
      "source": [
        "## Task 4\n",
        "\n",
        "1. Creating sequences\n",
        "2. Padding all sequences"
      ]
    },
    {
      "cell_type": "code",
      "execution_count": 24,
      "metadata": {
        "id": "zstNn-0dpt2m"
      },
      "outputs": [],
      "source": [
        "sequences = []\n",
        "\n",
        "for name in names:\n",
        "  seq = name_to_seq(name)\n",
        "  if len(seq) >= 2: # atleast have 2 characters\n",
        "    sequences += [seq[:i] for i in range(2, len(seq) + 1)]"
      ]
    },
    {
      "cell_type": "code",
      "execution_count": 25,
      "metadata": {
        "id": "SR68pu2tpt2q",
        "colab": {
          "base_uri": "https://localhost:8080/"
        },
        "outputId": "f56a1f06-12d6-4cd9-f78e-c97aedf5cfb3"
      },
      "outputs": [
        {
          "output_type": "execute_result",
          "data": {
            "text/plain": [
              "[[25, 16],\n",
              " [25, 16, 12],\n",
              " [25, 16, 12, 20],\n",
              " [25, 16, 12, 20, 2],\n",
              " [25, 16, 12, 20, 2, 1],\n",
              " [14, 5],\n",
              " [14, 5, 15],\n",
              " [14, 5, 15, 9],\n",
              " [14, 5, 15, 9, 5],\n",
              " [14, 5, 15, 9, 5, 4]]"
            ]
          },
          "metadata": {},
          "execution_count": 25
        }
      ],
      "source": [
        "sequences[:10]"
      ]
    },
    {
      "cell_type": "code",
      "execution_count": 26,
      "metadata": {
        "id": "h_1BtWO7pt2r",
        "colab": {
          "base_uri": "https://localhost:8080/"
        },
        "outputId": "7c9486f4-24ec-49e0-97b7-03c444e42875"
      },
      "outputs": [
        {
          "output_type": "stream",
          "name": "stdout",
          "text": [
            "33\n"
          ]
        }
      ],
      "source": [
        "max_len = max([len(x) for x in sequences])\n",
        "\n",
        "print(max_len)"
      ]
    },
    {
      "cell_type": "code",
      "execution_count": 28,
      "metadata": {
        "id": "sPlrLRpSpt2t",
        "colab": {
          "base_uri": "https://localhost:8080/"
        },
        "outputId": "801ab37c-e9f7-428f-e347-2fd56ddaaea1"
      },
      "outputs": [
        {
          "output_type": "stream",
          "name": "stdout",
          "text": [
            "[ 0  0  0  0  0  0  0  0  0  0  0  0  0  0  0  0  0  0  0  0  0  0  0  0\n",
            "  0  0  0  0  0  0  0 25 16]\n"
          ]
        }
      ],
      "source": [
        "padded_sequences = tf.keras.preprocessing.sequence.pad_sequences(\n",
        "    sequences, padding='pre', # means before(pre) padded added then value added to make max_len\n",
        "    maxlen=max_len\n",
        ")\n",
        "\n",
        "print(padded_sequences[0])  # last value is going to be label"
      ]
    },
    {
      "cell_type": "code",
      "source": [
        "padded_sequences.shape"
      ],
      "metadata": {
        "colab": {
          "base_uri": "https://localhost:8080/"
        },
        "id": "WAeXTkyB67Hi",
        "outputId": "8f67ee08-375b-4380-ba5b-b19129dae4de"
      },
      "execution_count": 29,
      "outputs": [
        {
          "output_type": "execute_result",
          "data": {
            "text/plain": [
              "(88279, 33)"
            ]
          },
          "metadata": {},
          "execution_count": 29
        }
      ]
    },
    {
      "cell_type": "markdown",
      "metadata": {
        "id": "kR5dDHKiBvQ9"
      },
      "source": [
        "## Task 5: Creating Training and Validation Sets\n",
        "\n",
        "1. Creating training and validation sets"
      ]
    },
    {
      "cell_type": "code",
      "execution_count": 31,
      "metadata": {
        "id": "BE4BIeSnpt2v",
        "colab": {
          "base_uri": "https://localhost:8080/"
        },
        "outputId": "37fd5d13-6077-4ced-900d-71fc95d4e670"
      },
      "outputs": [
        {
          "output_type": "stream",
          "name": "stdout",
          "text": [
            "(88279, 32)\n",
            "(88279,)\n"
          ]
        }
      ],
      "source": [
        "x, y = padded_sequences[:,:-1], padded_sequences[:,-1] # last value is going to be label\n",
        "\n",
        "print(x.shape)\n",
        "print(y.shape) #label"
      ]
    },
    {
      "cell_type": "code",
      "execution_count": 33,
      "metadata": {
        "id": "kosppCxbBvQ9",
        "colab": {
          "base_uri": "https://localhost:8080/"
        },
        "outputId": "9e78f201-d540-49cf-dce8-8fe07b397214"
      },
      "outputs": [
        {
          "output_type": "stream",
          "name": "stdout",
          "text": [
            "(66209, 32) (22070, 32)\n",
            "(66209,) (22070,)\n"
          ]
        }
      ],
      "source": [
        "from sklearn.model_selection import train_test_split\n",
        "\n",
        "x_train, x_test, y_train, y_test = train_test_split(x,y) # default split is 30% for test\n",
        "\n",
        "print(x_train.shape, x_test.shape)\n",
        "print(y_train.shape, y_test.shape)"
      ]
    },
    {
      "cell_type": "code",
      "execution_count": 36,
      "metadata": {
        "id": "cgqRZtqnpt2x",
        "colab": {
          "base_uri": "https://localhost:8080/"
        },
        "outputId": "0fe7c9ed-957a-44a4-b27b-25aede6e3831"
      },
      "outputs": [
        {
          "output_type": "stream",
          "name": "stdout",
          "text": [
            "29\n"
          ]
        }
      ],
      "source": [
        "num_chars = len(char_to_index.keys())+1  # +1 for 0\n",
        "print(num_chars) # 26 characters 0, ' ', \\t"
      ]
    },
    {
      "cell_type": "markdown",
      "metadata": {
        "id": "P0rUQcoABvQ9"
      },
      "source": [
        "## Task 6: Creating the Model"
      ]
    },
    {
      "cell_type": "code",
      "execution_count": 37,
      "metadata": {
        "id": "OwtLvrZcBvQ-",
        "colab": {
          "base_uri": "https://localhost:8080/"
        },
        "outputId": "304bff3e-ea9e-4556-ab63-6e5850e63cb7"
      },
      "outputs": [
        {
          "output_type": "stream",
          "name": "stdout",
          "text": [
            "Model: \"sequential\"\n",
            "_________________________________________________________________\n",
            " Layer (type)                Output Shape              Param #   \n",
            "=================================================================\n",
            " embedding (Embedding)       (None, 32, 8)             232       \n",
            "                                                                 \n",
            " conv1d (Conv1D)             (None, 32, 64)            2624      \n",
            "                                                                 \n",
            " max_pooling1d (MaxPooling1  (None, 16, 64)            0         \n",
            " D)                                                              \n",
            "                                                                 \n",
            " lstm (LSTM)                 (None, 32)                12416     \n",
            "                                                                 \n",
            " dense (Dense)               (None, 29)                957       \n",
            "                                                                 \n",
            "=================================================================\n",
            "Total params: 16229 (63.39 KB)\n",
            "Trainable params: 16229 (63.39 KB)\n",
            "Non-trainable params: 0 (0.00 Byte)\n",
            "_________________________________________________________________\n"
          ]
        }
      ],
      "source": [
        "from tensorflow.keras.models import Sequential\n",
        "from tensorflow.keras.layers import Embedding, Conv1D, MaxPool1D, LSTM, Bidirectional, Dense\n",
        "\n",
        "model = Sequential([\n",
        "    Embedding(num_chars, 8, input_length = max_len-1), # -1 for split label\n",
        "    Conv1D(64,5,strides=1, activation='tanh', padding='causal'), # causal is for time independent\n",
        "    MaxPool1D(2),\n",
        "    LSTM(32),\n",
        "    Dense(num_chars, activation='softmax')\n",
        "])\n",
        "\n",
        "model.compile(\n",
        "    loss = 'sparse_categorical_crossentropy',\n",
        "    optimizer ='adam',\n",
        "    metrics = ['accuracy']\n",
        ")\n",
        "\n",
        "model.summary()"
      ]
    },
    {
      "cell_type": "markdown",
      "metadata": {
        "id": "NUdk4BtCBvQ-"
      },
      "source": [
        "## Task 7: Training the Model"
      ]
    },
    {
      "cell_type": "code",
      "execution_count": 38,
      "metadata": {
        "id": "j0Ssl4qupt22",
        "colab": {
          "base_uri": "https://localhost:8080/"
        },
        "outputId": "5526a5ee-f0ae-4e37-ea91-5384a763c583"
      },
      "outputs": [
        {
          "output_type": "stream",
          "name": "stdout",
          "text": [
            "Epoch 1/50\n",
            "2070/2070 - 32s - loss: 2.7785 - accuracy: 0.1789 - val_loss: 2.6055 - val_accuracy: 0.2189 - 32s/epoch - 15ms/step\n",
            "Epoch 2/50\n",
            "2070/2070 - 39s - loss: 2.5443 - accuracy: 0.2353 - val_loss: 2.5204 - val_accuracy: 0.2449 - 39s/epoch - 19ms/step\n",
            "Epoch 3/50\n",
            "2070/2070 - 37s - loss: 2.4731 - accuracy: 0.2570 - val_loss: 2.4716 - val_accuracy: 0.2589 - 37s/epoch - 18ms/step\n",
            "Epoch 4/50\n",
            "2070/2070 - 51s - loss: 2.4266 - accuracy: 0.2649 - val_loss: 2.4340 - val_accuracy: 0.2614 - 51s/epoch - 25ms/step\n",
            "Epoch 5/50\n",
            "2070/2070 - 49s - loss: 2.3883 - accuracy: 0.2751 - val_loss: 2.4012 - val_accuracy: 0.2736 - 49s/epoch - 24ms/step\n",
            "Epoch 6/50\n",
            "2070/2070 - 40s - loss: 2.3564 - accuracy: 0.2855 - val_loss: 2.3844 - val_accuracy: 0.2782 - 40s/epoch - 19ms/step\n",
            "Epoch 7/50\n",
            "2070/2070 - 32s - loss: 2.3292 - accuracy: 0.2968 - val_loss: 2.3584 - val_accuracy: 0.2899 - 32s/epoch - 15ms/step\n",
            "Epoch 8/50\n",
            "2070/2070 - 38s - loss: 2.3044 - accuracy: 0.3019 - val_loss: 2.3446 - val_accuracy: 0.2909 - 38s/epoch - 18ms/step\n",
            "Epoch 9/50\n",
            "2070/2070 - 38s - loss: 2.2822 - accuracy: 0.3106 - val_loss: 2.3280 - val_accuracy: 0.2978 - 38s/epoch - 18ms/step\n",
            "Epoch 10/50\n",
            "2070/2070 - 38s - loss: 2.2611 - accuracy: 0.3180 - val_loss: 2.3101 - val_accuracy: 0.3039 - 38s/epoch - 18ms/step\n",
            "Epoch 11/50\n",
            "2070/2070 - 37s - loss: 2.2410 - accuracy: 0.3224 - val_loss: 2.3006 - val_accuracy: 0.3047 - 37s/epoch - 18ms/step\n",
            "Epoch 12/50\n",
            "2070/2070 - 38s - loss: 2.2229 - accuracy: 0.3278 - val_loss: 2.2951 - val_accuracy: 0.3072 - 38s/epoch - 18ms/step\n",
            "Epoch 13/50\n",
            "2070/2070 - 34s - loss: 2.2056 - accuracy: 0.3333 - val_loss: 2.2806 - val_accuracy: 0.3116 - 34s/epoch - 16ms/step\n",
            "Epoch 14/50\n",
            "2070/2070 - 44s - loss: 2.1898 - accuracy: 0.3385 - val_loss: 2.2746 - val_accuracy: 0.3149 - 44s/epoch - 21ms/step\n",
            "Epoch 15/50\n",
            "2070/2070 - 46s - loss: 2.1758 - accuracy: 0.3434 - val_loss: 2.2638 - val_accuracy: 0.3183 - 46s/epoch - 22ms/step\n",
            "Epoch 16/50\n",
            "2070/2070 - 32s - loss: 2.1617 - accuracy: 0.3469 - val_loss: 2.2563 - val_accuracy: 0.3240 - 32s/epoch - 16ms/step\n",
            "Epoch 17/50\n",
            "2070/2070 - 31s - loss: 2.1482 - accuracy: 0.3520 - val_loss: 2.2586 - val_accuracy: 0.3237 - 31s/epoch - 15ms/step\n",
            "Epoch 18/50\n",
            "2070/2070 - 31s - loss: 2.1370 - accuracy: 0.3547 - val_loss: 2.2512 - val_accuracy: 0.3224 - 31s/epoch - 15ms/step\n",
            "Epoch 19/50\n",
            "2070/2070 - 28s - loss: 2.1251 - accuracy: 0.3585 - val_loss: 2.2460 - val_accuracy: 0.3255 - 28s/epoch - 14ms/step\n",
            "Epoch 20/50\n",
            "2070/2070 - 31s - loss: 2.1149 - accuracy: 0.3606 - val_loss: 2.2411 - val_accuracy: 0.3327 - 31s/epoch - 15ms/step\n",
            "Epoch 21/50\n",
            "2070/2070 - 31s - loss: 2.1048 - accuracy: 0.3643 - val_loss: 2.2358 - val_accuracy: 0.3298 - 31s/epoch - 15ms/step\n",
            "Epoch 22/50\n",
            "2070/2070 - 31s - loss: 2.0957 - accuracy: 0.3687 - val_loss: 2.2323 - val_accuracy: 0.3346 - 31s/epoch - 15ms/step\n",
            "Epoch 23/50\n",
            "2070/2070 - 30s - loss: 2.0858 - accuracy: 0.3734 - val_loss: 2.2323 - val_accuracy: 0.3383 - 30s/epoch - 14ms/step\n",
            "Epoch 24/50\n",
            "2070/2070 - 28s - loss: 2.0781 - accuracy: 0.3759 - val_loss: 2.2270 - val_accuracy: 0.3417 - 28s/epoch - 13ms/step\n",
            "Epoch 25/50\n",
            "2070/2070 - 30s - loss: 2.0711 - accuracy: 0.3793 - val_loss: 2.2286 - val_accuracy: 0.3412 - 30s/epoch - 15ms/step\n",
            "Epoch 26/50\n",
            "2070/2070 - 29s - loss: 2.0629 - accuracy: 0.3813 - val_loss: 2.2229 - val_accuracy: 0.3408 - 29s/epoch - 14ms/step\n",
            "Epoch 27/50\n",
            "2070/2070 - 28s - loss: 2.0565 - accuracy: 0.3828 - val_loss: 2.2170 - val_accuracy: 0.3442 - 28s/epoch - 13ms/step\n",
            "Epoch 28/50\n",
            "2070/2070 - 29s - loss: 2.0493 - accuracy: 0.3844 - val_loss: 2.2184 - val_accuracy: 0.3437 - 29s/epoch - 14ms/step\n",
            "Epoch 29/50\n",
            "2070/2070 - 29s - loss: 2.0427 - accuracy: 0.3856 - val_loss: 2.2157 - val_accuracy: 0.3452 - 29s/epoch - 14ms/step\n",
            "Epoch 30/50\n",
            "2070/2070 - 28s - loss: 2.0359 - accuracy: 0.3883 - val_loss: 2.2136 - val_accuracy: 0.3442 - 28s/epoch - 14ms/step\n",
            "Epoch 31/50\n",
            "2070/2070 - 31s - loss: 2.0300 - accuracy: 0.3901 - val_loss: 2.2183 - val_accuracy: 0.3443 - 31s/epoch - 15ms/step\n",
            "Epoch 32/50\n",
            "2070/2070 - 28s - loss: 2.0242 - accuracy: 0.3924 - val_loss: 2.2200 - val_accuracy: 0.3452 - 28s/epoch - 13ms/step\n"
          ]
        }
      ],
      "source": [
        "h = model.fit(\n",
        "    x_train, y_train,\n",
        "    validation_data = (x_test, y_test),\n",
        "    epochs = 50,\n",
        "    verbose = 2,\n",
        "    callbacks = [\n",
        "        tf.keras.callbacks.EarlyStopping(monitor='val_accuracy', patience=3)\n",
        "    ]\n",
        "\n",
        ")"
      ]
    },
    {
      "cell_type": "code",
      "source": [
        "from matplotlib import pyplot as plt\n",
        "\n",
        "epochs_ran = len(h.history['loss'])\n",
        "\n",
        "plt.plot(range(0, epochs_ran), h.history['val_accuracy'], label='Validation')\n",
        "plt.plot(range(0, epochs_ran), h.history['accuracy'], label='Training')\n",
        "\n",
        "plt.legend()\n",
        "\n",
        "plt.show()\n"
      ],
      "metadata": {
        "colab": {
          "base_uri": "https://localhost:8080/",
          "height": 430
        },
        "id": "DMwLSYJP-9ie",
        "outputId": "d6222da8-72da-4ab2-9759-19e40bb6b81a"
      },
      "execution_count": 39,
      "outputs": [
        {
          "output_type": "display_data",
          "data": {
            "text/plain": [
              "<Figure size 640x480 with 1 Axes>"
            ],
            "image/png": "[encoded data removed]"
          },
          "metadata": {}
        }
      ]
    },
    {
      "cell_type": "markdown",
      "metadata": {
        "id": "-KdVOeCRBvQ-"
      },
      "source": [
        "## Task 8: Generate Names!"
      ]
    },
    {
      "cell_type": "code",
      "execution_count": 40,
      "metadata": {
        "id": "9f50aTRcpt24"
      },
      "outputs": [],
      "source": [
        "def generate_names(seed):\n",
        "  for i in range(0,40):\n",
        "    seq = name_to_seq(seed)\n",
        "    padded = tf.keras.preprocessing.sequence.pad_sequences([seq], padding='pre', maxlen=max_len-1, truncating='pre')\n",
        "\n",
        "    pred = model.predict(padded)[0]\n",
        "    pred_char = index_to_char[tf.argmax(pred).numpy()]\n",
        "    seed += pred_char\n",
        "\n",
        "    if pred_char == '\\t':\n",
        "      break\n",
        "\n",
        "  print(seed)"
      ]
    },
    {
      "cell_type": "code",
      "execution_count": 41,
      "metadata": {
        "id": "faQ0FInlpt26",
        "colab": {
          "base_uri": "https://localhost:8080/"
        },
        "outputId": "f4515cd5-da06-402d-a227-753c50c8b581"
      },
      "outputs": [
        {
          "output_type": "stream",
          "name": "stdout",
          "text": [
            "1/1 [==============================] - 1s 522ms/step\n",
            "1/1 [==============================] - 0s 24ms/step\n",
            "1/1 [==============================] - 0s 29ms/step\n",
            "1/1 [==============================] - 0s 24ms/step\n",
            "1/1 [==============================] - 0s 23ms/step\n",
            "1/1 [==============================] - 0s 24ms/step\n",
            "1/1 [==============================] - 0s 25ms/step\n",
            "1/1 [==============================] - 0s 28ms/step\n",
            "1/1 [==============================] - 0s 30ms/step\n",
            "1/1 [==============================] - 0s 33ms/step\n",
            "1/1 [==============================] - 0s 24ms/step\n",
            "1/1 [==============================] - 0s 22ms/step\n",
            "1/1 [==============================] - 0s 22ms/step\n",
            "1/1 [==============================] - 0s 28ms/step\n",
            "1/1 [==============================] - 0s 24ms/step\n",
            "artenica gallia\t\n"
          ]
        }
      ],
      "source": [
        "generate_names('a')"
      ]
    },
    {
      "cell_type": "code",
      "source": [
        "generate_names('pr')"
      ],
      "metadata": {
        "colab": {
          "base_uri": "https://localhost:8080/"
        },
        "id": "zrZW1kHwBMFr",
        "outputId": "0530542d-132d-4e83-f059-6064d3a480bf"
      },
      "execution_count": 43,
      "outputs": [
        {
          "output_type": "stream",
          "name": "stdout",
          "text": [
            "1/1 [==============================] - 0s 114ms/step\n",
            "1/1 [==============================] - 0s 105ms/step\n",
            "1/1 [==============================] - 0s 51ms/step\n",
            "1/1 [==============================] - 0s 49ms/step\n",
            "1/1 [==============================] - 0s 48ms/step\n",
            "1/1 [==============================] - 0s 47ms/step\n",
            "1/1 [==============================] - 0s 42ms/step\n",
            "1/1 [==============================] - 0s 39ms/step\n",
            "1/1 [==============================] - 0s 44ms/step\n",
            "1/1 [==============================] - 0s 29ms/step\n",
            "prock start\t\n"
          ]
        }
      ]
    }
  ],
  "metadata": {
    "accelerator": "GPU",
    "colab": {
      "provenance": []
    },
    "kernelspec": {
      "display_name": "Python 3",
      "language": "python",
      "name": "python3"
    },
    "language_info": {
      "codemirror_mode": {
        "name": "ipython",
        "version": 3
      },
      "file_extension": ".py",
      "mimetype": "text/x-python",
      "name": "python",
      "nbconvert_exporter": "python",
      "pygments_lexer": "ipython3",
      "version": "3.8.3"
    }
  },
  "nbformat": 4,
  "nbformat_minor": 0
}